{
  "nbformat": 4,
  "nbformat_minor": 0,
  "metadata": {
    "colab": {
      "name": "Food Detection and Calorie count Main Model Training",
      "provenance": [],
      "collapsed_sections": [],
      "mount_file_id": "1SKz7PvafetTDJ_rQfTjAWZnmha1oCaLr",
      "authorship_tag": "ABX9TyODuRtbXBiNP8itZVk9MNnJ",
      "include_colab_link": true
    },
    "kernelspec": {
      "name": "python3",
      "display_name": "Python 3"
    },
    "language_info": {
      "name": "python"
    },
    "accelerator": "GPU"
  },
  "cells": [
    {
      "cell_type": "markdown",
      "metadata": {
        "id": "view-in-github",
        "colab_type": "text"
      },
      "source": [
        "<a href=\"https://colab.research.google.com/github/Mandred009/Indian-Food-Detection-Using-Transfer-Learning/blob/main/Food_Detection_and_Calorie_count_Main_Model_Training.ipynb\" target=\"_parent\"><img src=\"https://colab.research.google.com/assets/colab-badge.svg\" alt=\"Open In Colab\"/></a>"
      ]
    },
    {
      "cell_type": "code",
      "source": [
        "import numpy as np \n",
        "import pandas as pd\n",
        "import matplotlib.pyplot as plt\n",
        "import os\n",
        "from datetime import datetime\n",
        "import cv2 as cv\n",
        "import tensorflow as tf\n",
        "import tensorflow_hub as hub\n",
        "from tensorflow.keras.preprocessing.image import ImageDataGenerator\n",
        "from tensorflow.keras.applications.mobilenet_v2 import MobileNetV2\n",
        "from tensorflow.keras import Sequential\n",
        "from tensorflow.keras.layers import Dense, Dropout, Flatten, GlobalAveragePooling2D\n",
        "from tensorflow.keras.optimizers import SGD, Adam\n",
        "from tensorflow.keras.callbacks import ReduceLROnPlateau, EarlyStopping, TensorBoard, ModelCheckpoint\n",
        "from tensorflow.keras.models import load_model"
      ],
      "metadata": {
        "id": "uS0MRCKFXsP_"
      },
      "execution_count": null,
      "outputs": []
    },
    {
      "cell_type": "code",
      "source": [
        "categories = os.listdir('/content/drive/MyDrive/Freelancing/Indian Food Images/Indian Food Images')"
      ],
      "metadata": {
        "id": "ah2ZDE3wQ7Qz"
      },
      "execution_count": null,
      "outputs": []
    },
    {
      "cell_type": "code",
      "source": [
        "categories=sorted(categories)"
      ],
      "metadata": {
        "id": "nkk70kThRCjg"
      },
      "execution_count": null,
      "outputs": []
    },
    {
      "cell_type": "code",
      "source": [
        "y=[]"
      ],
      "metadata": {
        "id": "r9DOAUfHgG5z"
      },
      "execution_count": null,
      "outputs": []
    },
    {
      "cell_type": "code",
      "source": [
        "img_size = 256\n",
        "def get_data(data_dir):\n",
        "    data = [] \n",
        "    flag=False\n",
        "    for category in categories: \n",
        "        path = os.path.join(data_dir, category)\n",
        "        class_num = categories.index(category)\n",
        "        zz=0\n",
        "        for img in os.listdir(path):\n",
        "            try:\n",
        "                img_arr = cv.imread(os.path.join(path, img)) #[...,::-1] #convert BGR to RGB format #optional\n",
        "                resized_arr = cv.resize(img_arr, (img_size, img_size)) #reshape\n",
        "                im_rgb = cv.cvtColor(resized_arr, cv.COLOR_BGR2RGB)\n",
        "                data.append(im_rgb)\n",
        "                y.append(class_num)\n",
        "                zz+=1\n",
        "                if zz==25:\n",
        "                  break\n",
        "            except Exception as e:\n",
        "                print(e)\n",
        "    return np.array(data)"
      ],
      "metadata": {
        "id": "_HuSAJrqS-Tr"
      },
      "execution_count": null,
      "outputs": []
    },
    {
      "cell_type": "code",
      "source": [
        "data=get_data('/content/drive/MyDrive/Freelancing/Indian Food Images/Indian Food Images')"
      ],
      "metadata": {
        "id": "k9rsBnwPb-Lz"
      },
      "execution_count": null,
      "outputs": []
    },
    {
      "cell_type": "code",
      "source": [
        "X=np.array(data)/255.0\n",
        "y=np.array(y)"
      ],
      "metadata": {
        "id": "MC05wcXUgnIz"
      },
      "execution_count": null,
      "outputs": []
    },
    {
      "cell_type": "code",
      "source": [
        "from sklearn.model_selection import train_test_split\n",
        "X_train,X_test,y_train,y_test=train_test_split(X,y,test_size=0.1)"
      ],
      "metadata": {
        "id": "ujQI7dfGfHY6"
      },
      "execution_count": null,
      "outputs": []
    },
    {
      "cell_type": "code",
      "source": [
        "def plot_sample(X, index):\n",
        "    plt.figure(figsize = (15,2))\n",
        "    plt.imshow(X[index])\n",
        "    plt.xlabel(categories[y_train[index]])"
      ],
      "metadata": {
        "id": "Pavcwg4WdBmK"
      },
      "execution_count": null,
      "outputs": []
    },
    {
      "cell_type": "code",
      "source": [
        "np.shape(y_test)"
      ],
      "metadata": {
        "id": "G44vtmUkZ2Q3"
      },
      "execution_count": null,
      "outputs": []
    },
    {
      "cell_type": "code",
      "source": [
        "ResNet_V2_50 = 'https://tfhub.dev/google/imagenet/resnet_v2_50/classification/5'\n",
        "Efficientnet_b0 = \"https://tfhub.dev/google/efficientnet/b0/classification/1\"\n",
        "Efficientnet_v2='https://tfhub.dev/google/imagenet/efficientnet_v2_imagenet1k_b2/classification/2'"
      ],
      "metadata": {
        "id": "3OXK5L7dh7J_"
      },
      "execution_count": null,
      "outputs": []
    },
    {
      "cell_type": "code",
      "source": [
        "model_Efficientnet = tf.keras.Sequential([\n",
        "    hub.KerasLayer(Efficientnet_v2, trainable = True, input_shape = (256,256,3), name = 'Resnet_V2_50'),\n",
        "    tf.keras.layers.Flatten(),\n",
        "    tf.keras.layers.Dense(650,activation='relu'),\n",
        "    tf.keras.layers.Dropout(0.5),\n",
        "    tf.keras.layers.Dense(300,activation='relu'),\n",
        "    tf.keras.layers.Dense(80, activation = 'softmax', name = 'Output_layer')\n",
        "])\n",
        "\n",
        "model_Efficientnet.compile(\n",
        "    optimizer = tf.keras.optimizers.Adam(),\n",
        "    loss = tf.keras.losses.SparseCategoricalCrossentropy(),\n",
        "    metrics = ['accuracy']\n",
        ")"
      ],
      "metadata": {
        "id": "xEiOeFR2hmag"
      },
      "execution_count": null,
      "outputs": []
    },
    {
      "cell_type": "code",
      "source": [
        "efficientnet_model = model_Efficientnet.fit(X_train,y_train, epochs = 160, verbose = 1)"
      ],
      "metadata": {
        "id": "ImSaUQ0KiKqn"
      },
      "execution_count": null,
      "outputs": []
    },
    {
      "cell_type": "code",
      "source": [
        "pred=model_Efficientnet.predict(X_test)"
      ],
      "metadata": {
        "id": "_kZDk5DFkB7o"
      },
      "execution_count": null,
      "outputs": []
    },
    {
      "cell_type": "code",
      "source": [
        "true_pred=[]\n",
        "for i in pred:\n",
        "  true_pred.append(np.argmax(i))"
      ],
      "metadata": {
        "id": "KNsOHwa_oa-w"
      },
      "execution_count": null,
      "outputs": []
    },
    {
      "cell_type": "code",
      "source": [
        "from sklearn.metrics import accuracy_score\n",
        "accuracy_score(y_test, np.array(true_pred))"
      ],
      "metadata": {
        "id": "cthrUBopoPfY"
      },
      "execution_count": null,
      "outputs": []
    },
    {
      "cell_type": "markdown",
      "source": [
        "# Save the entire model as a SavedModel.\n",
        "!mkdir -p saved_model\n",
        "model_Efficientnet.save('/content/drive/MyDrive/Freelancing/Indian Food Images/52Accuracy_zz=25_160ep_650_300')"
      ],
      "metadata": {
        "id": "zyK54R0Nuzso"
      }
    }
  ]
}