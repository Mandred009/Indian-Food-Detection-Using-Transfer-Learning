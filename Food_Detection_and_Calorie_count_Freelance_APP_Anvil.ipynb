{
  "nbformat": 4,
  "nbformat_minor": 0,
  "metadata": {
    "colab": {
      "name": "Food Detection and Calorie count Freelance APP Anvil",
      "provenance": [],
      "collapsed_sections": [],
      "mount_file_id": "1DDNjfRQmRXgcEW60f3VDI4Yw8Iizbc8w",
      "authorship_tag": "ABX9TyN/UWYRhPOSitSMR7xZxBFv",
      "include_colab_link": true
    },
    "kernelspec": {
      "name": "python3",
      "display_name": "Python 3"
    },
    "language_info": {
      "name": "python"
    },
    "accelerator": "GPU"
  },
  "cells": [
    {
      "cell_type": "markdown",
      "metadata": {
        "id": "view-in-github",
        "colab_type": "text"
      },
      "source": [
        "<a href=\"https://colab.research.google.com/github/Mandred009/Indian-Food-Detection-Using-Transfer-Learning/blob/main/Food_Detection_and_Calorie_count_Freelance_APP_Anvil.ipynb\" target=\"_parent\"><img src=\"https://colab.research.google.com/assets/colab-badge.svg\" alt=\"Open In Colab\"/></a>"
      ]
    },
    {
      "cell_type": "code",
      "source": [
        "##!pip install anvil-uplink"
      ],
      "metadata": {
        "id": "OPdvrM1s_soI"
      },
      "execution_count": 1,
      "outputs": []
    },
    {
      "cell_type": "code",
      "source": [
        "import tensorflow as tf\n",
        "import keras\n",
        "import os\n",
        "import cv2 as cv\n",
        "import matplotlib.pyplot as plt\n",
        "import numpy as np\n",
        "import pickle\n",
        "import anvil.server\n",
        "import PIL"
      ],
      "metadata": {
        "id": "jNAnAUvQI-nx"
      },
      "execution_count": 2,
      "outputs": []
    },
    {
      "cell_type": "code",
      "source": [
        "anvil.server.connect(\"Your Anvil CODE\")"
      ],
      "metadata": {
        "id": "fsbzpJ15iQX2",
        "colab": {
          "base_uri": "https://localhost:8080/"
        },
        "outputId": "fb42f5bd-7f71-4625-907c-e85c78807371"
      },
      "execution_count": 3,
      "outputs": [
        {
          "output_type": "stream",
          "name": "stdout",
          "text": [
            "Connecting to wss://anvil.works/uplink\n",
            "Anvil websocket open\n",
            "Connected to \"Default environment\" as SERVER\n"
          ]
        }
      ]
    },
    {
      "cell_type": "code",
      "source": [
        "new_model = tf.keras.models.load_model('/content/drive/MyDrive/Freelancing/Indian Food Images/52Accuracy_zz=25_160ep_650_300')\n",
        "\n",
        "# Check its architecture\n",
        "new_model.summary()"
      ],
      "metadata": {
        "colab": {
          "base_uri": "https://localhost:8080/"
        },
        "id": "7tkYo9GMIwKg",
        "outputId": "0ca9ad40-0cde-455a-9bf7-9ff14d3862e1"
      },
      "execution_count": 4,
      "outputs": [
        {
          "output_type": "stream",
          "name": "stdout",
          "text": [
            "Model: \"sequential\"\n",
            "_________________________________________________________________\n",
            " Layer (type)                Output Shape              Param #   \n",
            "=================================================================\n",
            " Resnet_V2_50 (KerasLayer)   (None, 1000)              5330564   \n",
            "                                                                 \n",
            " flatten (Flatten)           (None, 1000)              0         \n",
            "                                                                 \n",
            " dense (Dense)               (None, 650)               650650    \n",
            "                                                                 \n",
            " dropout (Dropout)           (None, 650)               0         \n",
            "                                                                 \n",
            " dense_1 (Dense)             (None, 300)               195300    \n",
            "                                                                 \n",
            " dropout_1 (Dropout)         (None, 300)               0         \n",
            "                                                                 \n",
            " Output_layer (Dense)        (None, 80)                24080     \n",
            "                                                                 \n",
            "=================================================================\n",
            "Total params: 6,200,594\n",
            "Trainable params: 870,030\n",
            "Non-trainable params: 5,330,564\n",
            "_________________________________________________________________\n"
          ]
        }
      ]
    },
    {
      "cell_type": "code",
      "source": [
        "types=['ariselu',\n",
        " 'basundi',\n",
        " 'aloo_matar',\n",
        " 'anarsa',\n",
        " 'adhirasam',\n",
        " 'bandar_laddu',\n",
        " 'aloo_gobi',\n",
        " 'aloo_methi',\n",
        " 'aloo_tikki',\n",
        " 'aloo_shimla_mirch',\n",
        " 'bhatura',\n",
        " 'butter_chicken',\n",
        " 'chak_hao_kheer',\n",
        " 'chana_masala',\n",
        " 'chhena_kheeri',\n",
        " 'bhindi_masala',\n",
        " 'cham_cham',\n",
        " 'chapati',\n",
        " 'biryani',\n",
        " 'boondi',\n",
        " 'chicken_tikka',\n",
        " 'dal_tadka',\n",
        " 'chicken_razala',\n",
        " 'dharwad_pedha',\n",
        " 'chicken_tikka_masala',\n",
        " 'chikki',\n",
        " 'daal_baati_churma',\n",
        " 'dal_makhani',\n",
        " 'daal_puri',\n",
        " 'doodhpak',\n",
        " 'kadai_paneer',\n",
        " 'double_ka_meetha',\n",
        " 'ghevar',\n",
        " 'jalebi',\n",
        " 'gulab_jamun',\n",
        " 'dum_aloo',\n",
        " 'gavvalu',\n",
        " 'imarti',\n",
        " 'gajar_ka_halwa',\n",
        " 'kachori',\n",
        " 'kalakand',\n",
        " 'ledikeni',\n",
        " 'kuzhi_paniyaram',\n",
        " 'kofta',\n",
        " 'lassi',\n",
        " 'litti_chokha',\n",
        " 'kajjikaya',\n",
        " 'karela_bharta',\n",
        " 'kakinada_khaja',\n",
        " 'kadhi_pakoda',\n",
        " 'lyangcha',\n",
        " 'mysore_pak',\n",
        " 'navrattan_korma',\n",
        " 'misi_roti',\n",
        " 'modak',\n",
        " 'maach_jhol',\n",
        " 'naan',\n",
        " 'misti_doi',\n",
        " 'makki_di_roti_sarson_da_saag',\n",
        " 'malapua',\n",
        " 'pithe',\n",
        " 'paneer_butter_masala',\n",
        " 'poha',\n",
        " 'poornalu',\n",
        " 'rabri',\n",
        " 'phirni',\n",
        " 'palak_paneer',\n",
        " 'rasgulla',\n",
        " 'qubani_ka_meetha',\n",
        " 'pootharekulu',\n",
        " 'sohan_papdi',\n",
        " 'ras_malai',\n",
        " 'sohan_halwa',\n",
        " 'sheera',\n",
        " 'shrikhand',\n",
        " 'sheer_korma',\n",
        " 'unni_appam',\n",
        " 'shankarpali',\n",
        " 'sandesh',\n",
        " 'sutar_feni']"
      ],
      "metadata": {
        "id": "FCRQJCL3KzJ_"
      },
      "execution_count": 5,
      "outputs": []
    },
    {
      "cell_type": "code",
      "source": [
        "types=sorted(types)"
      ],
      "metadata": {
        "id": "cAkHH_LIK4ou"
      },
      "execution_count": 6,
      "outputs": []
    },
    {
      "cell_type": "code",
      "source": [
        "calmap=[312,208,155,243,133,275,304,210,307,336,204,83,202,185,438,250,255,240,120,250,312,350,400,79,260,220,278,231,93,110,114,330,386,98,74,300,113,150,195,248,320,748,130,131,152,143.68,20,286,160,116,100,280,90,123,92,362,126,324,262,223,470,635,344,74,110,195,158,390,238,331,250,188,637,626,383,288,469,371,240,96]"
      ],
      "metadata": {
        "id": "VtJf3shzyst-"
      },
      "execution_count": 7,
      "outputs": []
    },
    {
      "cell_type": "code",
      "source": [
        "def inputimg(img):\n",
        "  img=cv.imread(img)\n",
        "  img=cv.cvtColor(img,cv.COLOR_BGR2RGB)\n",
        "  resized_arr = cv.resize(img, (256, 256))\n",
        "  z=np.array(resized_arr)/255.0\n",
        "  z=np.reshape(z,(1,256,256,3))\n",
        "  return (z)"
      ],
      "metadata": {
        "id": "pJ2FfxUJLwB3"
      },
      "execution_count": 8,
      "outputs": []
    },
    {
      "cell_type": "code",
      "source": [
        "def get_prediction(img):\n",
        "  pred=new_model.predict(img)\n",
        "  res=np.argmax(pred)\n",
        "  ans=types[res]\n",
        "  cal=calmap[res]\n",
        "  return ans,cal"
      ],
      "metadata": {
        "id": "uSVxU-TYi4kv"
      },
      "execution_count": 9,
      "outputs": []
    },
    {
      "cell_type": "code",
      "source": [
        "import anvil.media\n",
        "\n",
        "@anvil.server.callable\n",
        "def classify_image(file):\n",
        "  with anvil.media.TempFile(file) as f:\n",
        "    img = inputimg(f)\n",
        "    food,cal = get_prediction(img)\n",
        "    return food,cal"
      ],
      "metadata": {
        "id": "AhLgLoBNiia_"
      },
      "execution_count": 10,
      "outputs": []
    }
  ]
}
